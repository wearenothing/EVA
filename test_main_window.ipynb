{
 "cells": [
  {
   "cell_type": "code",
   "execution_count": 3,
   "metadata": {
    "collapsed": true
   },
   "outputs": [
    {
     "ename": "KeyboardInterrupt",
     "evalue": "",
     "output_type": "error",
     "traceback": [
      "\u001B[1;31m---------------------------------------------------------------------------\u001B[0m",
      "\u001B[1;31mKeyboardInterrupt\u001B[0m                         Traceback (most recent call last)",
      "Cell \u001B[1;32mIn[3], line 27\u001B[0m\n\u001B[0;32m     24\u001B[0m \u001B[38;5;66;03m# 显示窗口\u001B[39;00m\n\u001B[0;32m     25\u001B[0m window\u001B[38;5;241m.\u001B[39mshow()\n\u001B[1;32m---> 27\u001B[0m \u001B[43mapp\u001B[49m\u001B[38;5;241;43m.\u001B[39;49m\u001B[43mexec_\u001B[49m\u001B[43m(\u001B[49m\u001B[43m)\u001B[49m\n",
      "\u001B[1;31mKeyboardInterrupt\u001B[0m: "
     ]
    }
   ],
   "source": [
    "from PyQt6.QtWidgets import QApplication, QWidget, QVBoxLayout, QPushButton\n",
    "\n",
    "app = QApplication([])\n",
    "\n",
    "# 创建一个窗口\n",
    "window = QWidget()\n",
    "window.setWindowTitle(\"QVBoxLayout Example\")\n",
    "\n",
    "# 创建一个 QVBoxLayout 布局\n",
    "layout = QVBoxLayout()\n",
    "\n",
    "# 创建并添加按钮\n",
    "button1 = QPushButton(\"Button 1\")\n",
    "button2 = QPushButton(\"Button 2\")\n",
    "button3 = QPushButton(\"Button 3\")\n",
    "\n",
    "layout.addWidget(button1)\n",
    "layout.addWidget(button2)\n",
    "layout.addWidget(button3)\n",
    "\n",
    "# 设置窗口的布局\n",
    "window.setLayout(layout)\n",
    "\n",
    "# 显示窗口\n",
    "window.show()\n",
    "\n",
    "app.exec_()\n"
   ]
  }
 ],
 "metadata": {
  "kernelspec": {
   "display_name": "Python 3",
   "language": "python",
   "name": "python3"
  },
  "language_info": {
   "codemirror_mode": {
    "name": "ipython",
    "version": 2
   },
   "file_extension": ".py",
   "mimetype": "text/x-python",
   "name": "python",
   "nbconvert_exporter": "python",
   "pygments_lexer": "ipython2",
   "version": "2.7.6"
  }
 },
 "nbformat": 4,
 "nbformat_minor": 0
}